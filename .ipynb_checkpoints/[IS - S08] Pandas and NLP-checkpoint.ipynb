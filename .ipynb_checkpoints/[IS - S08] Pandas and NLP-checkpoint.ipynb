{
 "cells": [
  {
   "cell_type": "markdown",
   "metadata": {},
   "source": [
    "# Simple Text Analytics with Pandas\n",
    "\n",
    "\n",
    "For this exercise we use data from the NYC open data project:\n",
    "\n",
    "https://opendata.cityofnewyork.us\n",
    "\n",
    "In particular, we use a dataset containing information about OATH Hearings Division Case Status from 2016. In the following link you can find updated data as well as a variable description:\n",
    "\n",
    "https://data.ny.gov/City-Government/OATH-Hearings-Division-Case-Status/jz4z-kudi\n",
    "\n",
    "\n",
    "For this notebook we will use these variables:\n",
    "\n",
    "- **ticketnumber:** Bill id\n",
    "- **violationdate:** Date of the bill\n",
    "- **issuingagency:** Who is issuing the bill\n",
    "- **respondentlastname:** Who is the respondent of the bill\n",
    "- **charge1codedescription:** Bill text description\n",
    "- **charge1infractionamount:** Amount\n",
    "\n",
    "\n",
    "Our objective will be to create a word cloud to represent word importance in a visual manner. See https://en.wikipedia.org/wiki/Tag_cloud for more details\n",
    "\n",
    "<img src=\"https://upload.wikimedia.org/wikipedia/commons/9/9e/Foundation-l_word_cloud_without_headers_and_quotes.png\" alt=\"drawing\" width=\"600\"/>\n",
    "\n",
    "\n",
    "First we need to install a python library to generate this representation easily"
   ]
  },
  {
   "cell_type": "code",
   "execution_count": null,
   "metadata": {},
   "outputs": [],
   "source": [
    "pip install wordcloud"
   ]
  },
  {
   "cell_type": "markdown",
   "metadata": {},
   "source": [
    "## Data loading, column selection and cleaning"
   ]
  },
  {
   "cell_type": "markdown",
   "metadata": {},
   "source": [
    "We begin by loading the data"
   ]
  },
  {
   "cell_type": "code",
   "execution_count": null,
   "metadata": {},
   "outputs": [],
   "source": [
    "filename= \"unpaid_bills_nyc_2016.csv\"\n",
    "data_raw = pd.read_csv(filename)"
   ]
  },
  {
   "cell_type": "markdown",
   "metadata": {},
   "source": [
    "We select the columns of interest"
   ]
  },
  {
   "cell_type": "code",
   "execution_count": null,
   "metadata": {
    "ExecuteTime": {
     "end_time": "2019-11-08T13:20:03.044198Z",
     "start_time": "2019-11-08T13:20:02.862944Z"
    }
   },
   "outputs": [],
   "source": [
    "cols = [\"ticketnumber\", \"violationdate\", \"issuingagency\", \"respondentlastname\",\n",
    "        \"charge1codedescription\",  \"charge1infractionamount\"]\n",
    "data = data_raw[cols]"
   ]
  },
  {
   "cell_type": "markdown",
   "metadata": {},
   "source": [
    "We drop null values and filter the data to use only those infractions with a fraction above 0€"
   ]
  },
  {
   "cell_type": "code",
   "execution_count": null,
   "metadata": {},
   "outputs": [],
   "source": [
    "data = data.dropna()\n",
    "data = data[data[\"charge1infractionamount\"]>0]"
   ]
  },
  {
   "cell_type": "markdown",
   "metadata": {},
   "source": [
    "## Let's inspect the data"
   ]
  },
  {
   "cell_type": "code",
   "execution_count": null,
   "metadata": {},
   "outputs": [],
   "source": [
    "data.shape"
   ]
  },
  {
   "cell_type": "code",
   "execution_count": null,
   "metadata": {},
   "outputs": [],
   "source": [
    "data"
   ]
  },
  {
   "cell_type": "markdown",
   "metadata": {},
   "source": [
    "## Create a word cloud from a DataFrame column"
   ]
  },
  {
   "cell_type": "code",
   "execution_count": null,
   "metadata": {},
   "outputs": [],
   "source": [
    "from wordcloud import WordCloud\n",
    "import matplotlib.pyplot as plt\n",
    "\n",
    "def show_wordcloud(data, title = None):\n",
    "    \n",
    "    words = list(data)\n",
    "\n",
    "    stoplist = set('for a of the and to in from than with'.split())\n",
    "    \n",
    "    words_clean = [word.lower() for word in words if word.lower() not in stoplist]\n",
    "    words_clean = [word for word in words_clean if len(word)>2]\n",
    "    wordcloud = WordCloud(\n",
    "        background_color='white',\n",
    "        max_words=100,\n",
    "        max_font_size=40, \n",
    "        scale=3,\n",
    "        random_state=42\n",
    "    ).generate(' '.join(words))\n",
    "\n",
    "    fig = plt.figure(1, figsize=(12, 12))\n",
    "    plt.axis('off')\n",
    "    if title: \n",
    "        fig.suptitle(title, fontsize=20)\n",
    "        fig.subplots_adjust(top=2.3)\n",
    "\n",
    "    plt.imshow(wordcloud)\n",
    "    plt.show()"
   ]
  },
  {
   "cell_type": "markdown",
   "metadata": {},
   "source": [
    "## Let's use it with the bill description column"
   ]
  },
  {
   "cell_type": "code",
   "execution_count": null,
   "metadata": {},
   "outputs": [],
   "source": [
    "show_wordcloud(data[\"charge1codedescription\"])"
   ]
  },
  {
   "cell_type": "markdown",
   "metadata": {},
   "source": [
    "## Basic descriptive statistics"
   ]
  },
  {
   "cell_type": "code",
   "execution_count": null,
   "metadata": {},
   "outputs": [],
   "source": [
    "total_bills = data[\"charge1infractionamount\"].sum()\n",
    "num_bills = data[\"charge1infractionamount\"].count()\n",
    "avg_bills = data[\"charge1infractionamount\"].mean()\n",
    "\n",
    "f'There are {num_bills} bills, with a total sum equal to {total_bills} and an average amount of {avg_bills} '\n"
   ]
  },
  {
   "cell_type": "markdown",
   "metadata": {},
   "source": [
    "## Let's find someone famous\n",
    "\n",
    "For example ...\n",
    "<img src=\"https://upload.wikimedia.org/wikipedia/commons/5/56/Donald_Trump_official_portrait.jpg\" alt=\"drawing\" width=\"200\"/>\n",
    "\n",
    "Find all Donald Trump bills"
   ]
  },
  {
   "cell_type": "code",
   "execution_count": null,
   "metadata": {},
   "outputs": [],
   "source": [
    "trump_bills = <FILL IN>"
   ]
  },
  {
   "cell_type": "code",
   "execution_count": null,
   "metadata": {},
   "outputs": [],
   "source": [
    "trump_bills.shape"
   ]
  },
  {
   "cell_type": "code",
   "execution_count": null,
   "metadata": {},
   "outputs": [],
   "source": [
    "trump_total_bills = trump_bills[\"charge1infractionamount\"].sum()\n",
    "trump_num_bills = trump_bills[\"charge1infractionamount\"].count()\n",
    "trump_avg_bills = trump_bills[\"charge1infractionamount\"].mean()\n",
    "\n",
    "f'D. Trump has {trump_num_bills} bills, with a total sum equal to {trump_total_bills} and an average amount of {trump_avg_bills} '\n",
    "\n"
   ]
  },
  {
   "cell_type": "markdown",
   "metadata": {},
   "source": [
    "## Let's see the ones with the largest amounts"
   ]
  },
  {
   "cell_type": "code",
   "execution_count": null,
   "metadata": {},
   "outputs": [],
   "source": [
    "<FILL IN>"
   ]
  },
  {
   "cell_type": "markdown",
   "metadata": {},
   "source": [
    "## Use loc to inspect bill with id 9175"
   ]
  },
  {
   "cell_type": "code",
   "execution_count": null,
   "metadata": {},
   "outputs": [],
   "source": [
    "<FILL IN>"
   ]
  },
  {
   "cell_type": "code",
   "execution_count": null,
   "metadata": {},
   "outputs": [],
   "source": [
    "<FILL IN>[\"charge1codedescription\"]"
   ]
  },
  {
   "cell_type": "markdown",
   "metadata": {},
   "source": [
    "## Print the complete description of all D. Trump's bills"
   ]
  },
  {
   "cell_type": "code",
   "execution_count": null,
   "metadata": {},
   "outputs": [],
   "source": [
    "for s in trump_bills[\"charge1codedescription\"]:\n",
    "    print(s)"
   ]
  },
  {
   "cell_type": "markdown",
   "metadata": {},
   "source": [
    "## Create the word cloud"
   ]
  },
  {
   "cell_type": "code",
   "execution_count": null,
   "metadata": {},
   "outputs": [],
   "source": [
    "<FILL IN>"
   ]
  }
 ],
 "metadata": {
  "kernelspec": {
   "display_name": "Python 3",
   "language": "python",
   "name": "python3"
  },
  "language_info": {
   "codemirror_mode": {
    "name": "ipython",
    "version": 3
   },
   "file_extension": ".py",
   "mimetype": "text/x-python",
   "name": "python",
   "nbconvert_exporter": "python",
   "pygments_lexer": "ipython3",
   "version": "3.7.3"
  },
  "toc": {
   "base_numbering": 1,
   "nav_menu": {},
   "number_sections": true,
   "sideBar": true,
   "skip_h1_title": false,
   "title_cell": "Table of Contents",
   "title_sidebar": "Contents",
   "toc_cell": false,
   "toc_position": {},
   "toc_section_display": true,
   "toc_window_display": false
  },
  "varInspector": {
   "cols": {
    "lenName": 16,
    "lenType": 16,
    "lenVar": 40
   },
   "kernels_config": {
    "python": {
     "delete_cmd_postfix": "",
     "delete_cmd_prefix": "del ",
     "library": "var_list.py",
     "varRefreshCmd": "print(var_dic_list())"
    },
    "r": {
     "delete_cmd_postfix": ") ",
     "delete_cmd_prefix": "rm(",
     "library": "var_list.r",
     "varRefreshCmd": "cat(var_dic_list()) "
    }
   },
   "types_to_exclude": [
    "module",
    "function",
    "builtin_function_or_method",
    "instance",
    "_Feature"
   ],
   "window_display": false
  }
 },
 "nbformat": 4,
 "nbformat_minor": 4
}
